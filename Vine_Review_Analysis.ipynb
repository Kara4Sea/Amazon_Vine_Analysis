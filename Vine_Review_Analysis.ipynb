{
  "nbformat": 4,
  "nbformat_minor": 0,
  "metadata": {
    "colab": {
      "provenance": []
    },
    "kernelspec": {
      "name": "python3",
      "display_name": "Python 3"
    },
    "language_info": {
      "name": "python"
    }
  },
  "cells": [
    {
      "cell_type": "code",
      "execution_count": null,
      "metadata": {
        "colab": {
          "base_uri": "https://localhost:8080/"
        },
        "id": "n2ePdNQ7Fl8z",
        "outputId": "e4ed928f-ebb8-4564-bf0a-f11a20e37e71"
      },
      "outputs": [
        {
          "output_type": "stream",
          "name": "stdout",
          "text": [
            "Get:1 https://cloud.r-project.org/bin/linux/ubuntu bionic-cran40/ InRelease [3,626 B]\n",
            "Get:2 http://security.ubuntu.com/ubuntu bionic-security InRelease [88.7 kB]\n",
            "Hit:3 http://ppa.launchpad.net/c2d4u.team/c2d4u4.0+/ubuntu bionic InRelease\n",
            "Hit:4 http://archive.ubuntu.com/ubuntu bionic InRelease\n",
            "Ign:5 https://developer.download.nvidia.com/compute/machine-learning/repos/ubuntu1804/x86_64  InRelease\n",
            "Hit:6 https://developer.download.nvidia.com/compute/cuda/repos/ubuntu1804/x86_64  InRelease\n",
            "Hit:7 https://developer.download.nvidia.com/compute/machine-learning/repos/ubuntu1804/x86_64  Release\n",
            "Get:8 http://archive.ubuntu.com/ubuntu bionic-updates InRelease [88.7 kB]\n",
            "Hit:9 http://ppa.launchpad.net/cran/libgit2/ubuntu bionic InRelease\n",
            "Hit:10 http://ppa.launchpad.net/deadsnakes/ppa/ubuntu bionic InRelease\n",
            "Get:11 http://archive.ubuntu.com/ubuntu bionic-backports InRelease [83.3 kB]\n",
            "Hit:12 http://ppa.launchpad.net/graphics-drivers/ppa/ubuntu bionic InRelease\n",
            "Get:14 http://security.ubuntu.com/ubuntu bionic-security/restricted amd64 Packages [1,351 kB]\n",
            "Get:15 http://security.ubuntu.com/ubuntu bionic-security/universe amd64 Packages [1,573 kB]\n",
            "Get:16 http://security.ubuntu.com/ubuntu bionic-security/main amd64 Packages [3,129 kB]\n",
            "Get:17 http://archive.ubuntu.com/ubuntu bionic-updates/universe amd64 Packages [2,348 kB]\n",
            "Get:18 http://archive.ubuntu.com/ubuntu bionic-updates/restricted amd64 Packages [1,409 kB]\n",
            "Get:19 http://archive.ubuntu.com/ubuntu bionic-updates/main amd64 Packages [3,565 kB]\n",
            "Fetched 13.6 MB in 8s (1,780 kB/s)\n",
            "Reading package lists... Done\n"
          ]
        }
      ],
      "source": [
        "import os\n",
        "# Find the latest version of spark 3.2 from http://www.apache.org/dist/spark/ and enter as the spark version\n",
        "# For example:\n",
        "# spark_version = 'spark-3.2.3'\n",
        "spark_version = 'spark-3.2.3'\n",
        "os.environ['SPARK_VERSION']=spark_version\n",
        "\n",
        "# Install Spark and Java\n",
        "!apt-get update\n",
        "!apt-get install openjdk-11-jdk-headless -qq > /dev/null\n",
        "!wget -q http://www.apache.org/dist/spark/$SPARK_VERSION/$SPARK_VERSION-bin-hadoop2.7.tgz\n",
        "!tar xf $SPARK_VERSION-bin-hadoop2.7.tgz\n",
        "!pip install -q findspark\n",
        "\n",
        "# Set Environment Variables\n",
        "import os\n",
        "os.environ[\"JAVA_HOME\"] = \"/usr/lib/jvm/java-11-openjdk-amd64\"\n",
        "os.environ[\"SPARK_HOME\"] = f\"/content/{spark_version}-bin-hadoop2.7\"\n",
        "\n",
        "# Start a SparkSession\n",
        "import findspark\n",
        "findspark.init()"
      ]
    },
    {
      "cell_type": "code",
      "source": [
        "# Download the Postgres driver that will allow Spark to interact with Postgres.\n",
        "!wget https://jdbc.postgresql.org/download/postgresql-42.2.16.jar"
      ],
      "metadata": {
        "colab": {
          "base_uri": "https://localhost:8080/"
        },
        "id": "zQNP8_Y1FuxC",
        "outputId": "ad21e672-d6a0-4f6d-9bdd-f30bea44790d"
      },
      "execution_count": null,
      "outputs": [
        {
          "output_type": "stream",
          "name": "stdout",
          "text": [
            "--2023-01-12 17:48:19--  https://jdbc.postgresql.org/download/postgresql-42.2.16.jar\n",
            "Resolving jdbc.postgresql.org (jdbc.postgresql.org)... 72.32.157.228, 2001:4800:3e1:1::228\n",
            "Connecting to jdbc.postgresql.org (jdbc.postgresql.org)|72.32.157.228|:443... connected.\n",
            "HTTP request sent, awaiting response... 200 OK\n",
            "Length: 1002883 (979K) [application/java-archive]\n",
            "Saving to: ‘postgresql-42.2.16.jar’\n",
            "\n",
            "postgresql-42.2.16. 100%[===================>] 979.38K  6.20MB/s    in 0.2s    \n",
            "\n",
            "2023-01-12 17:48:20 (6.20 MB/s) - ‘postgresql-42.2.16.jar’ saved [1002883/1002883]\n",
            "\n"
          ]
        }
      ]
    },
    {
      "cell_type": "code",
      "source": [
        "from pyspark.sql import SparkSession\n",
        "spark = SparkSession.builder.appName(\"M17-Amazon-Challenge\").config(\"spark.driver.extraClassPath\",\"/content/postgresql-42.2.16.jar\").getOrCreate()"
      ],
      "metadata": {
        "id": "brX0d2X5FwxH"
      },
      "execution_count": null,
      "outputs": []
    },
    {
      "cell_type": "code",
      "source": [
        "from pyspark import SparkFiles\n",
        "url = \"https://s3.amazonaws.com/amazon-reviews-pds/tsv/amazon_reviews_us_Tools_v1_00.tsv.gz\"\n",
        "spark.sparkContext.addFile(url)\n",
        "df = spark.read.option(\"encoding\", \"UTF-8\").csv(SparkFiles.get(\"\"), sep=\"\\t\", header=True, inferSchema=True)\n",
        "df.show()"
      ],
      "metadata": {
        "colab": {
          "base_uri": "https://localhost:8080/"
        },
        "id": "1bvTN1CjFy5V",
        "outputId": "cebec698-893f-4cf9-9259-a7d6bf7186b7"
      },
      "execution_count": null,
      "outputs": [
        {
          "output_type": "stream",
          "name": "stdout",
          "text": [
            "+-----------+-----------+--------------+----------+--------------+--------------------+----------------+-----------+-------------+-----------+----+-----------------+--------------------+--------------------+-----------+\n",
            "|marketplace|customer_id|     review_id|product_id|product_parent|       product_title|product_category|star_rating|helpful_votes|total_votes|vine|verified_purchase|     review_headline|         review_body|review_date|\n",
            "+-----------+-----------+--------------+----------+--------------+--------------------+----------------+-----------+-------------+-----------+----+-----------------+--------------------+--------------------+-----------+\n",
            "|         US|   15785389|R2UM5QMHBHC90Q|B00H5U9ZD6|     115362950|WallPeg 12 sq ft ...|           Tools|          5|            0|          0|   N|                Y|Great organizer, ...|Very nice. Will o...| 2015-08-31|\n",
            "|         US|   47910848|  RF0D1LEIF6L7|B001TJGCS0|     570955425|Nite Ize Nite Daw...|           Tools|          4|            0|          0|   N|                Y|Like it, but the ...|Like it, but the ...| 2015-08-31|\n",
            "|         US|   36328996|  RM6YKIWQVNSY|B000NIK8JW|     128843593|Stanley 84-058 4 ...|           Tools|          1|            6|          6|   N|                Y|        poor quality|We were excited t...| 2015-08-31|\n",
            "|         US|   51785809|R1RL3L68ASPS36|B008ZYRGUA|     407828107|Powerextra 14.4V ...|           Tools|          4|            0|          0|   N|                Y|          Four Stars|Quick delivery. P...| 2015-08-31|\n",
            "|         US|   40757491|R1U4XFBFAG34CY|B00K5CA0GC|     490746675|Waterproof Invisi...|           Tools|          5|            0|          0|   N|                Y|          Five Stars|Quality waterproo...| 2015-08-31|\n",
            "|         US|   35544833|R3KFIK8P0I91PL|B00AIJAA94|     148352067|Crime Scene Do No...|           Tools|          5|            0|          0|   N|                Y|Excellent Decorat...|Ordered for my hu...| 2015-08-31|\n",
            "|         US|   16474909| RENOAY76PPK1O|B00JKEI6K8|     331801084|Aweek® 2 Pcs Bicy...|           Tools|          5|            0|          0|   N|                Y|          Five Stars|GREAT SELLER PROD...| 2015-08-31|\n",
            "|         US|   22601598| RINV884I0NL5V|B00AGCHVS6|     471514859|Ryobi P102 Genuin...|           Tools|          1|            0|          0|   N|                Y|Worked great for ...|My battery has di...| 2015-08-31|\n",
            "|         US|   16129808| R5KJH6CXZH2PX|B002S0O7U4|     162253576|Wiha 66995 6-Piec...|           Tools|          5|            0|          0|   N|                Y|       Great quality|Great product at ...| 2015-08-31|\n",
            "|         US|   24382335| RO69JF6QWD0W1|B0084YHXMW|      69530650|TOMTOP LED Submar...|           Tools|          5|            0|          0|   N|                Y|          Five Stars|           Excellent| 2015-08-31|\n",
            "|         US|   49796324|R3L9NQBH3FI55C|B00MLSS1SW|     916693555|Black & Decker BD...|           Tools|          4|            1|          1|   N|                Y|Really worked great!|This little sande...| 2015-08-31|\n",
            "|         US|   33289687| R4YH95YPHVU0C|B00D4WLS2A|      39333316|Crain 126 Staple ...|           Tools|          5|            0|          0|   N|                Y|         LOVE IT!!!!|This is the most ...| 2015-08-31|\n",
            "|         US|   10916386|R10M1WWDDQBGG2|B00JGCDV5Y|     550596607|Diamond Semi Roun...|           Tools|          2|            0|          0|   N|                Y|I needed to cut s...|I needed to cut s...| 2015-08-31|\n",
            "|         US|   34071500| RV3KWQBTNIO62|B00N0PS3YM|     735538025|It Mall 9 LED 375...|           Tools|          5|            1|          1|   N|                Y|   Works pretty well|Lights up small d...| 2015-08-31|\n",
            "|         US|   50594486|R1M7YUNLZI0G9F|B0000DD4KV|     506501960|IRWIN Tools Metri...|           Tools|          5|            1|          1|   N|                Y|          Five Stars|Great product for...| 2015-08-31|\n",
            "|         US|   21945887|R2MTL2D4E4HEF4|B0009H5FB8|     268586246|743022-A Backing ...|           Tools|          5|            0|          0|   N|                Y|          Five Stars|Many thanks for t...| 2015-08-31|\n",
            "|         US|   47749608| RXAHWIC1584UQ|B00NKSMPZW|     824618679|ClearArmor 141001...|           Tools|          5|           20|         23|   N|                Y|          Five Stars|geart product :) ...| 2015-08-31|\n",
            "|         US|   48880662| RMOIQFERVQDWS|B00RBAB92K|     156791442|KKmoon 9cm Mini A...|           Tools|          5|            0|          0|   N|                Y|          Five Stars|           very good| 2015-08-31|\n",
            "|         US|    4660265| R710G45MKODY9|B00QGBNZVI|     962324810|Refun E6 High Pow...|           Tools|          2|            1|          1|   N|                Y|           Two Stars|Scratches on lenses.| 2015-08-31|\n",
            "|         US|   18397238|R23ZIUGUM7TBMY|B00XXU3CDG|     543062309|Dr.meter S20 Mois...|           Tools|          1|            0|          1|   N|                Y|Don't waste your ...|It's a piece of $...| 2015-08-31|\n",
            "+-----------+-----------+--------------+----------+--------------+--------------------+----------------+-----------+-------------+-----------+----+-----------------+--------------------+--------------------+-----------+\n",
            "only showing top 20 rows\n",
            "\n"
          ]
        }
      ]
    },
    {
      "cell_type": "code",
      "source": [
        "from pyspark.sql.functions import to_date\n",
        "from pyspark.sql.functions import col\n",
        "from pyspark.sql.functions import count\n",
        "# Read in the Review dataset as a DataFrame"
      ],
      "metadata": {
        "id": "aQu_Mv3rF2uP"
      },
      "execution_count": 18,
      "outputs": []
    },
    {
      "cell_type": "code",
      "source": [
        "vine_df2=spark.read.csv(\"/content/drive/MyDrive/tesxt.csv\", header=True)\n",
        "vine_df2.show()"
      ],
      "metadata": {
        "colab": {
          "base_uri": "https://localhost:8080/"
        },
        "id": "ysJpYY51OhKB",
        "outputId": "5a668f26-2ab5-4322-8e50-9ebb0d9a6fc2"
      },
      "execution_count": 12,
      "outputs": [
        {
          "output_type": "stream",
          "name": "stdout",
          "text": [
            "+--------------+-----------+-------------+-----------+----+-----------------+\n",
            "|     review_id|star_rating|helpful_votes|total_votes|vine|verified_purchase|\n",
            "+--------------+-----------+-------------+-----------+----+-----------------+\n",
            "|R2UM5QMHBHC90Q|        5.0|          0.0|        0.0|   N|                Y|\n",
            "|  RF0D1LEIF6L7|        4.0|          0.0|        0.0|   N|                Y|\n",
            "|  RM6YKIWQVNSY|        1.0|          6.0|        6.0|   N|                Y|\n",
            "|R1RL3L68ASPS36|        4.0|          0.0|        0.0|   N|                Y|\n",
            "|R1U4XFBFAG34CY|        5.0|          0.0|        0.0|   N|                Y|\n",
            "|R3KFIK8P0I91PL|        5.0|          0.0|        0.0|   N|                Y|\n",
            "| RENOAY76PPK1O|        5.0|          0.0|        0.0|   N|                Y|\n",
            "| RINV884I0NL5V|        1.0|          0.0|        0.0|   N|                Y|\n",
            "| R5KJH6CXZH2PX|        5.0|          0.0|        0.0|   N|                Y|\n",
            "| RO69JF6QWD0W1|        5.0|          0.0|        0.0|   N|                Y|\n",
            "|R3L9NQBH3FI55C|        4.0|          1.0|        1.0|   N|                Y|\n",
            "| R4YH95YPHVU0C|        5.0|          0.0|        0.0|   N|                Y|\n",
            "|R10M1WWDDQBGG2|        2.0|          0.0|        0.0|   N|                Y|\n",
            "| RV3KWQBTNIO62|        5.0|          1.0|        1.0|   N|                Y|\n",
            "|R1M7YUNLZI0G9F|        5.0|          1.0|        1.0|   N|                Y|\n",
            "|R2MTL2D4E4HEF4|        5.0|          0.0|        0.0|   N|                Y|\n",
            "| RXAHWIC1584UQ|        5.0|         20.0|       23.0|   N|                Y|\n",
            "| RMOIQFERVQDWS|        5.0|          0.0|        0.0|   N|                Y|\n",
            "| R710G45MKODY9|        2.0|          1.0|        1.0|   N|                Y|\n",
            "|R23ZIUGUM7TBMY|        1.0|          0.0|        1.0|   N|                Y|\n",
            "+--------------+-----------+-------------+-----------+----+-----------------+\n",
            "only showing top 20 rows\n",
            "\n"
          ]
        }
      ]
    },
    {
      "cell_type": "code",
      "source": [
        "#Filter the data and create a new DataFrame or table to retrieve all the rows where the total_votes count is equal to or greater than 20 to pick reviews that are more likely\n",
        "# to be helpful and to avoid having division by zero errors later on.\n",
        "twenty_df = vine_df2.filter(\"total_votes>=20\")\n",
        "twenty_df.show()\n"
      ],
      "metadata": {
        "colab": {
          "base_uri": "https://localhost:8080/"
        },
        "id": "6zbTM0aYGgJs",
        "outputId": "937dc9b1-0b2c-44b1-da06-5c2157620428"
      },
      "execution_count": 13,
      "outputs": [
        {
          "output_type": "stream",
          "name": "stdout",
          "text": [
            "+--------------+-----------+-------------+-----------+----+-----------------+\n",
            "|     review_id|star_rating|helpful_votes|total_votes|vine|verified_purchase|\n",
            "+--------------+-----------+-------------+-----------+----+-----------------+\n",
            "| RXAHWIC1584UQ|        5.0|         20.0|       23.0|   N|                Y|\n",
            "| RSBELAIC899DO|        5.0|         46.0|       51.0|   N|                Y|\n",
            "|R2HCC4CJ59D225|        4.0|         43.0|       43.0|   N|                Y|\n",
            "|R39BVCCVPRV6F5|        5.0|         10.0|       22.0|   N|                Y|\n",
            "| RL9VF9WXHEHKR|        5.0|         35.0|       36.0|   N|                Y|\n",
            "|R1ZINLWUOLTZ46|        1.0|         39.0|       45.0|   N|                N|\n",
            "|R1CQKM1K1CHOHS|        1.0|         21.0|       22.0|   N|                N|\n",
            "|R1ZG19X1NOLCRF|        5.0|          5.0|       21.0|   N|                Y|\n",
            "|R1YOX5Z4GF3ZSW|        1.0|          1.0|       22.0|   N|                Y|\n",
            "| R2DHAM7J1KMWN|        5.0|         23.0|       24.0|   N|                N|\n",
            "|R2KOLBXPW57WC3|        1.0|          4.0|       38.0|   N|                N|\n",
            "|R26EZ2INBETPU2|        1.0|        103.0|      128.0|   N|                N|\n",
            "|R265ZMDO2ISN1O|        5.0|         20.0|       21.0|   N|                Y|\n",
            "|R3NZ7JTOCPYE1S|        4.0|         32.0|       33.0|   N|                Y|\n",
            "|R3HQQ725T45NCH|        3.0|          9.0|       21.0|   N|                Y|\n",
            "|R15JJ5AGVSB71T|        5.0|         33.0|       33.0|   N|                Y|\n",
            "|R28WDBNT2XRACG|        1.0|         19.0|       24.0|   N|                Y|\n",
            "|R3HP224QDFQ2SN|        5.0|         21.0|       22.0|   N|                Y|\n",
            "| RTURVI4KNPMG1|        5.0|        146.0|      154.0|   N|                Y|\n",
            "| RH2BXZ337F38J|        5.0|         62.0|       66.0|   N|                Y|\n",
            "+--------------+-----------+-------------+-----------+----+-----------------+\n",
            "only showing top 20 rows\n",
            "\n"
          ]
        }
      ]
    },
    {
      "cell_type": "code",
      "source": [
        "#Filter the new DataFrame or table created in Step 1 and create a new DataFrame or table to retrieve all the rows where the number of helpful_votes divided by total_votes \n",
        "#is equal to or greater than 50%\n",
        "fifty_percent_df = twenty_df.filter(\"helpful_votes/total_votes>=0.5\")\n",
        "fifty_percent_df.show()"
      ],
      "metadata": {
        "colab": {
          "base_uri": "https://localhost:8080/"
        },
        "id": "2wzs-fx3Hi5p",
        "outputId": "b8e42e7b-4621-4f22-da26-4f139ae7f5d4"
      },
      "execution_count": 14,
      "outputs": [
        {
          "output_type": "stream",
          "name": "stdout",
          "text": [
            "+--------------+-----------+-------------+-----------+----+-----------------+\n",
            "|     review_id|star_rating|helpful_votes|total_votes|vine|verified_purchase|\n",
            "+--------------+-----------+-------------+-----------+----+-----------------+\n",
            "| RXAHWIC1584UQ|        5.0|         20.0|       23.0|   N|                Y|\n",
            "| RSBELAIC899DO|        5.0|         46.0|       51.0|   N|                Y|\n",
            "|R2HCC4CJ59D225|        4.0|         43.0|       43.0|   N|                Y|\n",
            "| RL9VF9WXHEHKR|        5.0|         35.0|       36.0|   N|                Y|\n",
            "|R1ZINLWUOLTZ46|        1.0|         39.0|       45.0|   N|                N|\n",
            "|R1CQKM1K1CHOHS|        1.0|         21.0|       22.0|   N|                N|\n",
            "| R2DHAM7J1KMWN|        5.0|         23.0|       24.0|   N|                N|\n",
            "|R26EZ2INBETPU2|        1.0|        103.0|      128.0|   N|                N|\n",
            "|R265ZMDO2ISN1O|        5.0|         20.0|       21.0|   N|                Y|\n",
            "|R3NZ7JTOCPYE1S|        4.0|         32.0|       33.0|   N|                Y|\n",
            "|R15JJ5AGVSB71T|        5.0|         33.0|       33.0|   N|                Y|\n",
            "|R28WDBNT2XRACG|        1.0|         19.0|       24.0|   N|                Y|\n",
            "|R3HP224QDFQ2SN|        5.0|         21.0|       22.0|   N|                Y|\n",
            "| RTURVI4KNPMG1|        5.0|        146.0|      154.0|   N|                Y|\n",
            "| RH2BXZ337F38J|        5.0|         62.0|       66.0|   N|                Y|\n",
            "|R3G8L2NRMZZHPI|        4.0|         23.0|       23.0|   N|                Y|\n",
            "|R21Q3I2ZEDSMZK|        5.0|         80.0|       84.0|   N|                Y|\n",
            "|R16MXXKY0MRKZW|        1.0|         48.0|       52.0|   N|                Y|\n",
            "|R121P6RES3Z7WC|        1.0|        145.0|      162.0|   N|                Y|\n",
            "|R1ILUNGUCRZGF3|        5.0|         21.0|       21.0|   N|                Y|\n",
            "+--------------+-----------+-------------+-----------+----+-----------------+\n",
            "only showing top 20 rows\n",
            "\n"
          ]
        }
      ]
    },
    {
      "cell_type": "code",
      "source": [
        "#Filter the DataFrame or table created in Step 2, and create a new DataFrame or table that retrieves all the rows where a review was written as part of the Vine program (paid), \n",
        "#vine == 'Y'.\n",
        "paid_df = fifty_percent_df.filter(\"vine == 'Y'\")\n",
        "paid_df.show()"
      ],
      "metadata": {
        "id": "u5NeK0z8IcMu",
        "colab": {
          "base_uri": "https://localhost:8080/"
        },
        "outputId": "1d8d8664-6863-42bf-9eaf-0d9000f14798"
      },
      "execution_count": 15,
      "outputs": [
        {
          "output_type": "stream",
          "name": "stdout",
          "text": [
            "+--------------+-----------+-------------+-----------+----+-----------------+\n",
            "|     review_id|star_rating|helpful_votes|total_votes|vine|verified_purchase|\n",
            "+--------------+-----------+-------------+-----------+----+-----------------+\n",
            "|R3QIQRG107AP19|        5.0|         38.0|       41.0|   Y|                N|\n",
            "|R1ZNBHGCYE8VN1|        5.0|        175.0|      181.0|   Y|                N|\n",
            "|R1BNZJ9IKGRBC2|        4.0|         63.0|       70.0|   Y|                N|\n",
            "|R2IXTN4PBRHBO2|        5.0|         19.0|       24.0|   Y|                N|\n",
            "|R32AOW3L09SYMQ|        5.0|         29.0|       34.0|   Y|                N|\n",
            "|R34Z4VTLF7PC6X|        4.0|         33.0|       36.0|   Y|                N|\n",
            "|R25403NE9JCRZZ|        2.0|         36.0|       40.0|   Y|                N|\n",
            "|R2QT2G3YRGC0PS|        5.0|         18.0|       20.0|   Y|                N|\n",
            "| RDUP15OURNUSA|        5.0|         22.0|       23.0|   Y|                N|\n",
            "|R1EI4NZTG7G14F|        5.0|         17.0|       23.0|   Y|                N|\n",
            "|R2G0YB0MC67NLG|        5.0|         29.0|       38.0|   Y|                N|\n",
            "| RGA1PHAE93JR2|        1.0|         16.0|       21.0|   Y|                N|\n",
            "|R1QS5MKSKOGG0U|        5.0|         15.0|       20.0|   Y|                N|\n",
            "|R3MVW880K2V5BK|        3.0|         37.0|       46.0|   Y|                N|\n",
            "|R11JKXPSMHSZY1|        4.0|         21.0|       28.0|   Y|                N|\n",
            "|  RSPSTXGY3OD8|        5.0|         29.0|       33.0|   Y|                N|\n",
            "| RQO0NNMNWRLB4|        3.0|         47.0|       54.0|   Y|                N|\n",
            "|R3H5BSP5KCFHBG|        4.0|         19.0|       21.0|   Y|                N|\n",
            "|R2AIJIWME1WDKN|        5.0|         16.0|       24.0|   Y|                N|\n",
            "| R585MGH89JZZ5|        5.0|         27.0|       34.0|   Y|                N|\n",
            "+--------------+-----------+-------------+-----------+----+-----------------+\n",
            "only showing top 20 rows\n",
            "\n"
          ]
        }
      ]
    },
    {
      "cell_type": "code",
      "source": [
        "#Repeat Step 3, but this time retrieve all the rows where the review was not part of the Vine program (unpaid), vine == 'N'.\n",
        "unpaid_df = fifty_percent_df.filter(\"vine == 'N'\")\n",
        "unpaid_df.show()"
      ],
      "metadata": {
        "id": "uJjuiaqJIhHF",
        "colab": {
          "base_uri": "https://localhost:8080/"
        },
        "outputId": "5e9b2a5a-ccbb-4207-e795-731ef7c88df0"
      },
      "execution_count": 17,
      "outputs": [
        {
          "output_type": "stream",
          "name": "stdout",
          "text": [
            "+--------------+-----------+-------------+-----------+----+-----------------+\n",
            "|     review_id|star_rating|helpful_votes|total_votes|vine|verified_purchase|\n",
            "+--------------+-----------+-------------+-----------+----+-----------------+\n",
            "| RXAHWIC1584UQ|        5.0|         20.0|       23.0|   N|                Y|\n",
            "| RSBELAIC899DO|        5.0|         46.0|       51.0|   N|                Y|\n",
            "|R2HCC4CJ59D225|        4.0|         43.0|       43.0|   N|                Y|\n",
            "| RL9VF9WXHEHKR|        5.0|         35.0|       36.0|   N|                Y|\n",
            "|R1ZINLWUOLTZ46|        1.0|         39.0|       45.0|   N|                N|\n",
            "|R1CQKM1K1CHOHS|        1.0|         21.0|       22.0|   N|                N|\n",
            "| R2DHAM7J1KMWN|        5.0|         23.0|       24.0|   N|                N|\n",
            "|R26EZ2INBETPU2|        1.0|        103.0|      128.0|   N|                N|\n",
            "|R265ZMDO2ISN1O|        5.0|         20.0|       21.0|   N|                Y|\n",
            "|R3NZ7JTOCPYE1S|        4.0|         32.0|       33.0|   N|                Y|\n",
            "|R15JJ5AGVSB71T|        5.0|         33.0|       33.0|   N|                Y|\n",
            "|R28WDBNT2XRACG|        1.0|         19.0|       24.0|   N|                Y|\n",
            "|R3HP224QDFQ2SN|        5.0|         21.0|       22.0|   N|                Y|\n",
            "| RTURVI4KNPMG1|        5.0|        146.0|      154.0|   N|                Y|\n",
            "| RH2BXZ337F38J|        5.0|         62.0|       66.0|   N|                Y|\n",
            "|R3G8L2NRMZZHPI|        4.0|         23.0|       23.0|   N|                Y|\n",
            "|R21Q3I2ZEDSMZK|        5.0|         80.0|       84.0|   N|                Y|\n",
            "|R16MXXKY0MRKZW|        1.0|         48.0|       52.0|   N|                Y|\n",
            "|R121P6RES3Z7WC|        1.0|        145.0|      162.0|   N|                Y|\n",
            "|R1ILUNGUCRZGF3|        5.0|         21.0|       21.0|   N|                Y|\n",
            "+--------------+-----------+-------------+-----------+----+-----------------+\n",
            "only showing top 20 rows\n",
            "\n"
          ]
        }
      ]
    },
    {
      "cell_type": "code",
      "source": [
        "#Determine the total number of reviews, the number of 5-star reviews, and the percentage of 5-star reviews for the two types of review (paid vs unpaid).\n",
        "#review count, 5.0 star-rating count, 5.0 star count/review count\n",
        "\n",
        "paid_review_count = paid_df.agg({'review_id':'count'}).show()\n",
        "# paid_review_count.show()"
      ],
      "metadata": {
        "id": "MGAW2M8aIiPF",
        "colab": {
          "base_uri": "https://localhost:8080/"
        },
        "outputId": "16270d86-df78-4e34-98cd-053304c84e79"
      },
      "execution_count": 21,
      "outputs": [
        {
          "output_type": "stream",
          "name": "stdout",
          "text": [
            "+----------------+\n",
            "|count(review_id)|\n",
            "+----------------+\n",
            "|             285|\n",
            "+----------------+\n",
            "\n"
          ]
        }
      ]
    },
    {
      "cell_type": "code",
      "source": [
        "unpaid_review_count = unpaid_df.agg({'review_id':'count'}).show()"
      ],
      "metadata": {
        "colab": {
          "base_uri": "https://localhost:8080/"
        },
        "id": "zT5a0BfQdydJ",
        "outputId": "be78065b-89fb-4eb1-a140-2dd408cc1e11"
      },
      "execution_count": 22,
      "outputs": [
        {
          "output_type": "stream",
          "name": "stdout",
          "text": [
            "+----------------+\n",
            "|count(review_id)|\n",
            "+----------------+\n",
            "|           31545|\n",
            "+----------------+\n",
            "\n"
          ]
        }
      ]
    },
    {
      "cell_type": "code",
      "source": [
        "# paid_5star_count = paid_df.agg({'star_rating'==5.0:'count'}).show()\n",
        "\n",
        "paid_5star = paid_df.select('star_rating').where(paid_df.star_rating==5.0)\n"
      ],
      "metadata": {
        "id": "cMwtAR0NiPKZ"
      },
      "execution_count": 43,
      "outputs": []
    },
    {
      "cell_type": "code",
      "source": [
        "paid_5star_count = paid_5star.agg({'star_rating':'count'}).show()"
      ],
      "metadata": {
        "colab": {
          "base_uri": "https://localhost:8080/"
        },
        "id": "usQrYpcNlCyz",
        "outputId": "1062edc9-a5d1-443c-8b48-b0e2639ac6dc"
      },
      "execution_count": 40,
      "outputs": [
        {
          "output_type": "stream",
          "name": "stdout",
          "text": [
            "+------------------+\n",
            "|count(star_rating)|\n",
            "+------------------+\n",
            "|               163|\n",
            "+------------------+\n",
            "\n"
          ]
        }
      ]
    },
    {
      "cell_type": "code",
      "source": [
        "unpaid_5star = unpaid_df.select('star_rating').where(unpaid_df.star_rating==5.0)\n"
      ],
      "metadata": {
        "id": "BYEHtaokgRad"
      },
      "execution_count": 44,
      "outputs": []
    },
    {
      "cell_type": "code",
      "source": [
        "unpaid_5star_count = unpaid_5star.agg({'star_rating':'count'}).show()"
      ],
      "metadata": {
        "colab": {
          "base_uri": "https://localhost:8080/"
        },
        "id": "YcFxM4Mjlie3",
        "outputId": "3de19d87-f3ba-4b51-9439-dd3c9555a3da"
      },
      "execution_count": 42,
      "outputs": [
        {
          "output_type": "stream",
          "name": "stdout",
          "text": [
            "+------------------+\n",
            "|count(star_rating)|\n",
            "+------------------+\n",
            "|             14614|\n",
            "+------------------+\n",
            "\n"
          ]
        }
      ]
    },
    {
      "cell_type": "code",
      "source": [
        "# paid reviews are 57.2% 5-star rating\n",
        "# unpaid reviews are 46.3% 5-star rating"
      ],
      "metadata": {
        "id": "aTRyvm8Cqwks"
      },
      "execution_count": null,
      "outputs": []
    }
  ]
}